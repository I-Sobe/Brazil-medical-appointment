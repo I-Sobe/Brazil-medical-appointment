{
 "cells": [
  {
   "cell_type": "markdown",
   "metadata": {},
   "source": [
    "# Project: Predicting patients turnup for an event."
   ]
  },
  {
   "cell_type": "code",
   "execution_count": 32,
   "metadata": {},
   "outputs": [],
   "source": [
    "#Basics\n",
    "import pandas as pd\n",
    "import numpy as np\n",
    "\n",
    "#Visualization\n",
    "import matplotlib.pyplot as plot\n",
    "import seaborn as sns\n",
    "import matplotlib.pyplot as plt\n",
    "\n",
    "#SKLearn ML\n",
    "from sklearn.preprocessing import StandardScaler\n",
    "from sklearn.linear_model import LogisticRegression\n",
    "from sklearn.model_selection import train_test_split\n",
    "from sklearn.metrics import plot_confusion_matrix\n",
    "import pickle"
   ]
  },
  {
   "cell_type": "code",
   "execution_count": 2,
   "metadata": {},
   "outputs": [
    {
     "data": {
      "text/html": [
       "<div>\n",
       "<style scoped>\n",
       "    .dataframe tbody tr th:only-of-type {\n",
       "        vertical-align: middle;\n",
       "    }\n",
       "\n",
       "    .dataframe tbody tr th {\n",
       "        vertical-align: top;\n",
       "    }\n",
       "\n",
       "    .dataframe thead th {\n",
       "        text-align: right;\n",
       "    }\n",
       "</style>\n",
       "<table border=\"1\" class=\"dataframe\">\n",
       "  <thead>\n",
       "    <tr style=\"text-align: right;\">\n",
       "      <th></th>\n",
       "      <th>Gender</th>\n",
       "      <th>Age</th>\n",
       "      <th>Neighbourhood</th>\n",
       "      <th>Scholarship</th>\n",
       "      <th>Hipertension</th>\n",
       "      <th>Diabetes</th>\n",
       "      <th>Alcoholism</th>\n",
       "      <th>Handcap</th>\n",
       "      <th>SMS_received</th>\n",
       "      <th>Show</th>\n",
       "      <th>scheduled_month</th>\n",
       "      <th>scheduled_day</th>\n",
       "      <th>appointment_month</th>\n",
       "      <th>appointment_day</th>\n",
       "      <th>Age_groups</th>\n",
       "    </tr>\n",
       "  </thead>\n",
       "  <tbody>\n",
       "    <tr>\n",
       "      <th>0</th>\n",
       "      <td>F</td>\n",
       "      <td>62</td>\n",
       "      <td>JARDIM DA PENHA</td>\n",
       "      <td>0</td>\n",
       "      <td>1</td>\n",
       "      <td>0</td>\n",
       "      <td>0</td>\n",
       "      <td>0</td>\n",
       "      <td>0</td>\n",
       "      <td>1</td>\n",
       "      <td>4</td>\n",
       "      <td>6</td>\n",
       "      <td>4</td>\n",
       "      <td>6</td>\n",
       "      <td>4</td>\n",
       "    </tr>\n",
       "    <tr>\n",
       "      <th>1</th>\n",
       "      <td>M</td>\n",
       "      <td>56</td>\n",
       "      <td>JARDIM DA PENHA</td>\n",
       "      <td>0</td>\n",
       "      <td>0</td>\n",
       "      <td>0</td>\n",
       "      <td>0</td>\n",
       "      <td>0</td>\n",
       "      <td>0</td>\n",
       "      <td>1</td>\n",
       "      <td>4</td>\n",
       "      <td>6</td>\n",
       "      <td>4</td>\n",
       "      <td>6</td>\n",
       "      <td>4</td>\n",
       "    </tr>\n",
       "    <tr>\n",
       "      <th>2</th>\n",
       "      <td>F</td>\n",
       "      <td>62</td>\n",
       "      <td>MATA DA PRAIA</td>\n",
       "      <td>0</td>\n",
       "      <td>0</td>\n",
       "      <td>0</td>\n",
       "      <td>0</td>\n",
       "      <td>0</td>\n",
       "      <td>0</td>\n",
       "      <td>1</td>\n",
       "      <td>4</td>\n",
       "      <td>6</td>\n",
       "      <td>4</td>\n",
       "      <td>6</td>\n",
       "      <td>4</td>\n",
       "    </tr>\n",
       "    <tr>\n",
       "      <th>3</th>\n",
       "      <td>F</td>\n",
       "      <td>8</td>\n",
       "      <td>PONTAL DE CAMBURI</td>\n",
       "      <td>0</td>\n",
       "      <td>0</td>\n",
       "      <td>0</td>\n",
       "      <td>0</td>\n",
       "      <td>0</td>\n",
       "      <td>0</td>\n",
       "      <td>1</td>\n",
       "      <td>4</td>\n",
       "      <td>6</td>\n",
       "      <td>4</td>\n",
       "      <td>6</td>\n",
       "      <td>1</td>\n",
       "    </tr>\n",
       "    <tr>\n",
       "      <th>4</th>\n",
       "      <td>F</td>\n",
       "      <td>56</td>\n",
       "      <td>JARDIM DA PENHA</td>\n",
       "      <td>0</td>\n",
       "      <td>1</td>\n",
       "      <td>1</td>\n",
       "      <td>0</td>\n",
       "      <td>0</td>\n",
       "      <td>0</td>\n",
       "      <td>1</td>\n",
       "      <td>4</td>\n",
       "      <td>6</td>\n",
       "      <td>4</td>\n",
       "      <td>6</td>\n",
       "      <td>4</td>\n",
       "    </tr>\n",
       "  </tbody>\n",
       "</table>\n",
       "</div>"
      ],
      "text/plain": [
       "  Gender  Age      Neighbourhood  Scholarship  Hipertension  Diabetes  \\\n",
       "0      F   62    JARDIM DA PENHA            0             1         0   \n",
       "1      M   56    JARDIM DA PENHA            0             0         0   \n",
       "2      F   62      MATA DA PRAIA            0             0         0   \n",
       "3      F    8  PONTAL DE CAMBURI            0             0         0   \n",
       "4      F   56    JARDIM DA PENHA            0             1         1   \n",
       "\n",
       "   Alcoholism  Handcap  SMS_received  Show  scheduled_month  scheduled_day  \\\n",
       "0           0        0             0     1                4              6   \n",
       "1           0        0             0     1                4              6   \n",
       "2           0        0             0     1                4              6   \n",
       "3           0        0             0     1                4              6   \n",
       "4           0        0             0     1                4              6   \n",
       "\n",
       "   appointment_month  appointment_day  Age_groups  \n",
       "0                  4                6           4  \n",
       "1                  4                6           4  \n",
       "2                  4                6           4  \n",
       "3                  4                6           1  \n",
       "4                  4                6           4  "
      ]
     },
     "execution_count": 2,
     "metadata": {},
     "output_type": "execute_result"
    }
   ],
   "source": [
    "# loading dataset\n",
    "preprocessed = pd.read_csv('../data/preprocessed.csv')\n",
    "preprocessed.head()"
   ]
  },
  {
   "cell_type": "code",
   "execution_count": 3,
   "metadata": {},
   "outputs": [
    {
     "data": {
      "text/plain": [
       "81"
      ]
     },
     "execution_count": 3,
     "metadata": {},
     "output_type": "execute_result"
    }
   ],
   "source": [
    "preprocessed.Neighbourhood.nunique()"
   ]
  },
  {
   "cell_type": "code",
   "execution_count": 4,
   "metadata": {},
   "outputs": [],
   "source": [
    "# creating a copy before preprocessing\n",
    "df = preprocessed.copy()"
   ]
  },
  {
   "cell_type": "code",
   "execution_count": 5,
   "metadata": {},
   "outputs": [],
   "source": [
    "# drop Neighbourhood due to its large categories\n",
    "df.drop(['Neighbourhood'], axis=1, inplace=True)"
   ]
  },
  {
   "cell_type": "code",
   "execution_count": 6,
   "metadata": {},
   "outputs": [],
   "source": [
    "# encode gender column to be '0' (Male) and '1' (Female)\n",
    "df['Gender'] = df['Gender'].replace(['M', 'F'], ['0', '1'])"
   ]
  },
  {
   "cell_type": "code",
   "execution_count": 7,
   "metadata": {},
   "outputs": [
    {
     "data": {
      "text/html": [
       "<style  type=\"text/css\" >\n",
       "#T_d10e4997_82b2_11ed_9292_1458d013d3fdrow0_col0,#T_d10e4997_82b2_11ed_9292_1458d013d3fdrow1_col1,#T_d10e4997_82b2_11ed_9292_1458d013d3fdrow2_col2,#T_d10e4997_82b2_11ed_9292_1458d013d3fdrow3_col3,#T_d10e4997_82b2_11ed_9292_1458d013d3fdrow4_col4,#T_d10e4997_82b2_11ed_9292_1458d013d3fdrow5_col5,#T_d10e4997_82b2_11ed_9292_1458d013d3fdrow6_col6,#T_d10e4997_82b2_11ed_9292_1458d013d3fdrow7_col7,#T_d10e4997_82b2_11ed_9292_1458d013d3fdrow8_col8,#T_d10e4997_82b2_11ed_9292_1458d013d3fdrow9_col9,#T_d10e4997_82b2_11ed_9292_1458d013d3fdrow10_col10,#T_d10e4997_82b2_11ed_9292_1458d013d3fdrow11_col11,#T_d10e4997_82b2_11ed_9292_1458d013d3fdrow12_col12{\n",
       "            background-color:  #b40426;\n",
       "            color:  #f1f1f1;\n",
       "        }#T_d10e4997_82b2_11ed_9292_1458d013d3fdrow0_col1,#T_d10e4997_82b2_11ed_9292_1458d013d3fdrow1_col0,#T_d10e4997_82b2_11ed_9292_1458d013d3fdrow1_col2,#T_d10e4997_82b2_11ed_9292_1458d013d3fdrow1_col3,#T_d10e4997_82b2_11ed_9292_1458d013d3fdrow1_col12,#T_d10e4997_82b2_11ed_9292_1458d013d3fdrow6_col4,#T_d10e4997_82b2_11ed_9292_1458d013d3fdrow6_col5,#T_d10e4997_82b2_11ed_9292_1458d013d3fdrow6_col7,#T_d10e4997_82b2_11ed_9292_1458d013d3fdrow6_col8,#T_d10e4997_82b2_11ed_9292_1458d013d3fdrow6_col11,#T_d10e4997_82b2_11ed_9292_1458d013d3fdrow8_col6,#T_d10e4997_82b2_11ed_9292_1458d013d3fdrow10_col9,#T_d10e4997_82b2_11ed_9292_1458d013d3fdrow11_col10,#T_d10e4997_82b2_11ed_9292_1458d013d3fdrow12_col1{\n",
       "            background-color:  #3b4cc0;\n",
       "            color:  #f1f1f1;\n",
       "        }#T_d10e4997_82b2_11ed_9292_1458d013d3fdrow0_col2{\n",
       "            background-color:  #e0dbd8;\n",
       "            color:  #000000;\n",
       "        }#T_d10e4997_82b2_11ed_9292_1458d013d3fdrow0_col3,#T_d10e4997_82b2_11ed_9292_1458d013d3fdrow10_col6{\n",
       "            background-color:  #a2c1ff;\n",
       "            color:  #000000;\n",
       "        }#T_d10e4997_82b2_11ed_9292_1458d013d3fdrow0_col4,#T_d10e4997_82b2_11ed_9292_1458d013d3fdrow4_col1,#T_d10e4997_82b2_11ed_9292_1458d013d3fdrow5_col7{\n",
       "            background-color:  #5f7fe8;\n",
       "            color:  #000000;\n",
       "        }#T_d10e4997_82b2_11ed_9292_1458d013d3fdrow0_col5,#T_d10e4997_82b2_11ed_9292_1458d013d3fdrow5_col2,#T_d10e4997_82b2_11ed_9292_1458d013d3fdrow10_col0,#T_d10e4997_82b2_11ed_9292_1458d013d3fdrow10_col12{\n",
       "            background-color:  #5977e3;\n",
       "            color:  #000000;\n",
       "        }#T_d10e4997_82b2_11ed_9292_1458d013d3fdrow0_col6{\n",
       "            background-color:  #88abfd;\n",
       "            color:  #000000;\n",
       "        }#T_d10e4997_82b2_11ed_9292_1458d013d3fdrow0_col7{\n",
       "            background-color:  #6f92f3;\n",
       "            color:  #000000;\n",
       "        }#T_d10e4997_82b2_11ed_9292_1458d013d3fdrow0_col8,#T_d10e4997_82b2_11ed_9292_1458d013d3fdrow12_col8{\n",
       "            background-color:  #84a7fc;\n",
       "            color:  #000000;\n",
       "        }#T_d10e4997_82b2_11ed_9292_1458d013d3fdrow0_col9,#T_d10e4997_82b2_11ed_9292_1458d013d3fdrow8_col3{\n",
       "            background-color:  #4961d2;\n",
       "            color:  #f1f1f1;\n",
       "        }#T_d10e4997_82b2_11ed_9292_1458d013d3fdrow0_col10,#T_d10e4997_82b2_11ed_9292_1458d013d3fdrow12_col10{\n",
       "            background-color:  #506bda;\n",
       "            color:  #000000;\n",
       "        }#T_d10e4997_82b2_11ed_9292_1458d013d3fdrow0_col11,#T_d10e4997_82b2_11ed_9292_1458d013d3fdrow2_col11,#T_d10e4997_82b2_11ed_9292_1458d013d3fdrow4_col11,#T_d10e4997_82b2_11ed_9292_1458d013d3fdrow8_col12,#T_d10e4997_82b2_11ed_9292_1458d013d3fdrow9_col1,#T_d10e4997_82b2_11ed_9292_1458d013d3fdrow10_col1,#T_d10e4997_82b2_11ed_9292_1458d013d3fdrow12_col5,#T_d10e4997_82b2_11ed_9292_1458d013d3fdrow12_col11{\n",
       "            background-color:  #5470de;\n",
       "            color:  #000000;\n",
       "        }#T_d10e4997_82b2_11ed_9292_1458d013d3fdrow0_col12,#T_d10e4997_82b2_11ed_9292_1458d013d3fdrow12_col0{\n",
       "            background-color:  #c12b30;\n",
       "            color:  #f1f1f1;\n",
       "        }#T_d10e4997_82b2_11ed_9292_1458d013d3fdrow1_col4,#T_d10e4997_82b2_11ed_9292_1458d013d3fdrow2_col10,#T_d10e4997_82b2_11ed_9292_1458d013d3fdrow3_col10,#T_d10e4997_82b2_11ed_9292_1458d013d3fdrow4_col10,#T_d10e4997_82b2_11ed_9292_1458d013d3fdrow7_col1{\n",
       "            background-color:  #4c66d6;\n",
       "            color:  #000000;\n",
       "        }#T_d10e4997_82b2_11ed_9292_1458d013d3fdrow1_col5,#T_d10e4997_82b2_11ed_9292_1458d013d3fdrow6_col2{\n",
       "            background-color:  #3e51c5;\n",
       "            color:  #f1f1f1;\n",
       "        }#T_d10e4997_82b2_11ed_9292_1458d013d3fdrow1_col6{\n",
       "            background-color:  #85a8fc;\n",
       "            color:  #000000;\n",
       "        }#T_d10e4997_82b2_11ed_9292_1458d013d3fdrow1_col7,#T_d10e4997_82b2_11ed_9292_1458d013d3fdrow3_col11,#T_d10e4997_82b2_11ed_9292_1458d013d3fdrow5_col11,#T_d10e4997_82b2_11ed_9292_1458d013d3fdrow6_col1,#T_d10e4997_82b2_11ed_9292_1458d013d3fdrow11_col0,#T_d10e4997_82b2_11ed_9292_1458d013d3fdrow11_col1,#T_d10e4997_82b2_11ed_9292_1458d013d3fdrow11_col12{\n",
       "            background-color:  #5572df;\n",
       "            color:  #000000;\n",
       "        }#T_d10e4997_82b2_11ed_9292_1458d013d3fdrow1_col8,#T_d10e4997_82b2_11ed_9292_1458d013d3fdrow5_col8,#T_d10e4997_82b2_11ed_9292_1458d013d3fdrow12_col6{\n",
       "            background-color:  #89acfd;\n",
       "            color:  #000000;\n",
       "        }#T_d10e4997_82b2_11ed_9292_1458d013d3fdrow1_col9,#T_d10e4997_82b2_11ed_9292_1458d013d3fdrow7_col9,#T_d10e4997_82b2_11ed_9292_1458d013d3fdrow9_col4{\n",
       "            background-color:  #445acc;\n",
       "            color:  #f1f1f1;\n",
       "        }#T_d10e4997_82b2_11ed_9292_1458d013d3fdrow1_col10,#T_d10e4997_82b2_11ed_9292_1458d013d3fdrow5_col10{\n",
       "            background-color:  #4b64d5;\n",
       "            color:  #f1f1f1;\n",
       "        }#T_d10e4997_82b2_11ed_9292_1458d013d3fdrow1_col11,#T_d10e4997_82b2_11ed_9292_1458d013d3fdrow3_col5,#T_d10e4997_82b2_11ed_9292_1458d013d3fdrow5_col1,#T_d10e4997_82b2_11ed_9292_1458d013d3fdrow5_col3,#T_d10e4997_82b2_11ed_9292_1458d013d3fdrow7_col10,#T_d10e4997_82b2_11ed_9292_1458d013d3fdrow7_col11,#T_d10e4997_82b2_11ed_9292_1458d013d3fdrow8_col0{\n",
       "            background-color:  #536edd;\n",
       "            color:  #000000;\n",
       "        }#T_d10e4997_82b2_11ed_9292_1458d013d3fdrow2_col0{\n",
       "            background-color:  #e8d6cc;\n",
       "            color:  #000000;\n",
       "        }#T_d10e4997_82b2_11ed_9292_1458d013d3fdrow2_col1{\n",
       "            background-color:  #4f69d9;\n",
       "            color:  #000000;\n",
       "        }#T_d10e4997_82b2_11ed_9292_1458d013d3fdrow2_col3{\n",
       "            background-color:  #cedaeb;\n",
       "            color:  #000000;\n",
       "        }#T_d10e4997_82b2_11ed_9292_1458d013d3fdrow2_col4,#T_d10e4997_82b2_11ed_9292_1458d013d3fdrow4_col7,#T_d10e4997_82b2_11ed_9292_1458d013d3fdrow6_col9,#T_d10e4997_82b2_11ed_9292_1458d013d3fdrow11_col7{\n",
       "            background-color:  #5d7ce6;\n",
       "            color:  #000000;\n",
       "        }#T_d10e4997_82b2_11ed_9292_1458d013d3fdrow2_col5,#T_d10e4997_82b2_11ed_9292_1458d013d3fdrow6_col12,#T_d10e4997_82b2_11ed_9292_1458d013d3fdrow8_col1{\n",
       "            background-color:  #5a78e4;\n",
       "            color:  #000000;\n",
       "        }#T_d10e4997_82b2_11ed_9292_1458d013d3fdrow2_col6{\n",
       "            background-color:  #82a6fb;\n",
       "            color:  #000000;\n",
       "        }#T_d10e4997_82b2_11ed_9292_1458d013d3fdrow2_col7{\n",
       "            background-color:  #6788ee;\n",
       "            color:  #000000;\n",
       "        }#T_d10e4997_82b2_11ed_9292_1458d013d3fdrow2_col8,#T_d10e4997_82b2_11ed_9292_1458d013d3fdrow3_col8,#T_d10e4997_82b2_11ed_9292_1458d013d3fdrow4_col8{\n",
       "            background-color:  #8caffe;\n",
       "            color:  #000000;\n",
       "        }#T_d10e4997_82b2_11ed_9292_1458d013d3fdrow2_col9,#T_d10e4997_82b2_11ed_9292_1458d013d3fdrow3_col9,#T_d10e4997_82b2_11ed_9292_1458d013d3fdrow5_col9,#T_d10e4997_82b2_11ed_9292_1458d013d3fdrow8_col5{\n",
       "            background-color:  #455cce;\n",
       "            color:  #f1f1f1;\n",
       "        }#T_d10e4997_82b2_11ed_9292_1458d013d3fdrow2_col12{\n",
       "            background-color:  #e5d8d1;\n",
       "            color:  #000000;\n",
       "        }#T_d10e4997_82b2_11ed_9292_1458d013d3fdrow3_col0,#T_d10e4997_82b2_11ed_9292_1458d013d3fdrow11_col9{\n",
       "            background-color:  #b1cbfc;\n",
       "            color:  #000000;\n",
       "        }#T_d10e4997_82b2_11ed_9292_1458d013d3fdrow3_col1{\n",
       "            background-color:  #4e68d8;\n",
       "            color:  #000000;\n",
       "        }#T_d10e4997_82b2_11ed_9292_1458d013d3fdrow3_col2{\n",
       "            background-color:  #cdd9ec;\n",
       "            color:  #000000;\n",
       "        }#T_d10e4997_82b2_11ed_9292_1458d013d3fdrow3_col4,#T_d10e4997_82b2_11ed_9292_1458d013d3fdrow4_col9,#T_d10e4997_82b2_11ed_9292_1458d013d3fdrow8_col2,#T_d10e4997_82b2_11ed_9292_1458d013d3fdrow8_col11,#T_d10e4997_82b2_11ed_9292_1458d013d3fdrow12_col9{\n",
       "            background-color:  #485fd1;\n",
       "            color:  #f1f1f1;\n",
       "        }#T_d10e4997_82b2_11ed_9292_1458d013d3fdrow3_col6{\n",
       "            background-color:  #81a4fb;\n",
       "            color:  #000000;\n",
       "        }#T_d10e4997_82b2_11ed_9292_1458d013d3fdrow3_col7,#T_d10e4997_82b2_11ed_9292_1458d013d3fdrow12_col4{\n",
       "            background-color:  #6282ea;\n",
       "            color:  #000000;\n",
       "        }#T_d10e4997_82b2_11ed_9292_1458d013d3fdrow3_col12,#T_d10e4997_82b2_11ed_9292_1458d013d3fdrow7_col8{\n",
       "            background-color:  #afcafc;\n",
       "            color:  #000000;\n",
       "        }#T_d10e4997_82b2_11ed_9292_1458d013d3fdrow4_col0{\n",
       "            background-color:  #7295f4;\n",
       "            color:  #000000;\n",
       "        }#T_d10e4997_82b2_11ed_9292_1458d013d3fdrow4_col2,#T_d10e4997_82b2_11ed_9292_1458d013d3fdrow9_col7{\n",
       "            background-color:  #5b7ae5;\n",
       "            color:  #000000;\n",
       "        }#T_d10e4997_82b2_11ed_9292_1458d013d3fdrow4_col3,#T_d10e4997_82b2_11ed_9292_1458d013d3fdrow7_col3{\n",
       "            background-color:  #465ecf;\n",
       "            color:  #f1f1f1;\n",
       "        }#T_d10e4997_82b2_11ed_9292_1458d013d3fdrow4_col5,#T_d10e4997_82b2_11ed_9292_1458d013d3fdrow5_col4,#T_d10e4997_82b2_11ed_9292_1458d013d3fdrow7_col5,#T_d10e4997_82b2_11ed_9292_1458d013d3fdrow10_col3,#T_d10e4997_82b2_11ed_9292_1458d013d3fdrow10_col4,#T_d10e4997_82b2_11ed_9292_1458d013d3fdrow11_col3,#T_d10e4997_82b2_11ed_9292_1458d013d3fdrow11_col4,#T_d10e4997_82b2_11ed_9292_1458d013d3fdrow11_col5{\n",
       "            background-color:  #4358cb;\n",
       "            color:  #f1f1f1;\n",
       "        }#T_d10e4997_82b2_11ed_9292_1458d013d3fdrow4_col6,#T_d10e4997_82b2_11ed_9292_1458d013d3fdrow5_col6{\n",
       "            background-color:  #7ea1fa;\n",
       "            color:  #000000;\n",
       "        }#T_d10e4997_82b2_11ed_9292_1458d013d3fdrow4_col12{\n",
       "            background-color:  #7597f6;\n",
       "            color:  #000000;\n",
       "        }#T_d10e4997_82b2_11ed_9292_1458d013d3fdrow5_col0{\n",
       "            background-color:  #6b8df0;\n",
       "            color:  #000000;\n",
       "        }#T_d10e4997_82b2_11ed_9292_1458d013d3fdrow5_col12,#T_d10e4997_82b2_11ed_9292_1458d013d3fdrow7_col12{\n",
       "            background-color:  #688aef;\n",
       "            color:  #000000;\n",
       "        }#T_d10e4997_82b2_11ed_9292_1458d013d3fdrow6_col0,#T_d10e4997_82b2_11ed_9292_1458d013d3fdrow9_col0,#T_d10e4997_82b2_11ed_9292_1458d013d3fdrow9_col12{\n",
       "            background-color:  #5875e1;\n",
       "            color:  #000000;\n",
       "        }#T_d10e4997_82b2_11ed_9292_1458d013d3fdrow6_col3{\n",
       "            background-color:  #3d50c3;\n",
       "            color:  #f1f1f1;\n",
       "        }#T_d10e4997_82b2_11ed_9292_1458d013d3fdrow6_col10{\n",
       "            background-color:  #6e90f2;\n",
       "            color:  #000000;\n",
       "        }#T_d10e4997_82b2_11ed_9292_1458d013d3fdrow7_col0{\n",
       "            background-color:  #6687ed;\n",
       "            color:  #000000;\n",
       "        }#T_d10e4997_82b2_11ed_9292_1458d013d3fdrow7_col2,#T_d10e4997_82b2_11ed_9292_1458d013d3fdrow8_col4{\n",
       "            background-color:  #4a63d3;\n",
       "            color:  #f1f1f1;\n",
       "        }#T_d10e4997_82b2_11ed_9292_1458d013d3fdrow7_col4,#T_d10e4997_82b2_11ed_9292_1458d013d3fdrow9_col3,#T_d10e4997_82b2_11ed_9292_1458d013d3fdrow9_col5,#T_d10e4997_82b2_11ed_9292_1458d013d3fdrow10_col11{\n",
       "            background-color:  #4257c9;\n",
       "            color:  #f1f1f1;\n",
       "        }#T_d10e4997_82b2_11ed_9292_1458d013d3fdrow7_col6,#T_d10e4997_82b2_11ed_9292_1458d013d3fdrow10_col7{\n",
       "            background-color:  #6384eb;\n",
       "            color:  #000000;\n",
       "        }#T_d10e4997_82b2_11ed_9292_1458d013d3fdrow8_col7{\n",
       "            background-color:  #8fb1fe;\n",
       "            color:  #000000;\n",
       "        }#T_d10e4997_82b2_11ed_9292_1458d013d3fdrow8_col9{\n",
       "            background-color:  #3c4ec2;\n",
       "            color:  #f1f1f1;\n",
       "        }#T_d10e4997_82b2_11ed_9292_1458d013d3fdrow8_col10{\n",
       "            background-color:  #ead4c8;\n",
       "            color:  #000000;\n",
       "        }#T_d10e4997_82b2_11ed_9292_1458d013d3fdrow9_col2,#T_d10e4997_82b2_11ed_9292_1458d013d3fdrow9_col10,#T_d10e4997_82b2_11ed_9292_1458d013d3fdrow10_col2,#T_d10e4997_82b2_11ed_9292_1458d013d3fdrow10_col5,#T_d10e4997_82b2_11ed_9292_1458d013d3fdrow11_col2{\n",
       "            background-color:  #4055c8;\n",
       "            color:  #f1f1f1;\n",
       "        }#T_d10e4997_82b2_11ed_9292_1458d013d3fdrow9_col6{\n",
       "            background-color:  #9abbff;\n",
       "            color:  #000000;\n",
       "        }#T_d10e4997_82b2_11ed_9292_1458d013d3fdrow9_col8{\n",
       "            background-color:  #7b9ff9;\n",
       "            color:  #000000;\n",
       "        }#T_d10e4997_82b2_11ed_9292_1458d013d3fdrow9_col11{\n",
       "            background-color:  #bbd1f8;\n",
       "            color:  #000000;\n",
       "        }#T_d10e4997_82b2_11ed_9292_1458d013d3fdrow10_col8{\n",
       "            background-color:  #f5c1a9;\n",
       "            color:  #000000;\n",
       "        }#T_d10e4997_82b2_11ed_9292_1458d013d3fdrow11_col6{\n",
       "            background-color:  #6c8ff1;\n",
       "            color:  #000000;\n",
       "        }#T_d10e4997_82b2_11ed_9292_1458d013d3fdrow11_col8{\n",
       "            background-color:  #799cf8;\n",
       "            color:  #000000;\n",
       "        }#T_d10e4997_82b2_11ed_9292_1458d013d3fdrow12_col2{\n",
       "            background-color:  #dcdddd;\n",
       "            color:  #000000;\n",
       "        }#T_d10e4997_82b2_11ed_9292_1458d013d3fdrow12_col3{\n",
       "            background-color:  #9fbfff;\n",
       "            color:  #000000;\n",
       "        }#T_d10e4997_82b2_11ed_9292_1458d013d3fdrow12_col7{\n",
       "            background-color:  #7093f3;\n",
       "            color:  #000000;\n",
       "        }</style><table id=\"T_d10e4997_82b2_11ed_9292_1458d013d3fd\" ><thead>    <tr>        <th class=\"blank level0\" ></th>        <th class=\"col_heading level0 col0\" >Age</th>        <th class=\"col_heading level0 col1\" >Scholarship</th>        <th class=\"col_heading level0 col2\" >Hipertension</th>        <th class=\"col_heading level0 col3\" >Diabetes</th>        <th class=\"col_heading level0 col4\" >Alcoholism</th>        <th class=\"col_heading level0 col5\" >Handcap</th>        <th class=\"col_heading level0 col6\" >SMS_received</th>        <th class=\"col_heading level0 col7\" >Show</th>        <th class=\"col_heading level0 col8\" >scheduled_month</th>        <th class=\"col_heading level0 col9\" >scheduled_day</th>        <th class=\"col_heading level0 col10\" >appointment_month</th>        <th class=\"col_heading level0 col11\" >appointment_day</th>        <th class=\"col_heading level0 col12\" >Age_groups</th>    </tr></thead><tbody>\n",
       "                <tr>\n",
       "                        <th id=\"T_d10e4997_82b2_11ed_9292_1458d013d3fdlevel0_row0\" class=\"row_heading level0 row0\" >Age</th>\n",
       "                        <td id=\"T_d10e4997_82b2_11ed_9292_1458d013d3fdrow0_col0\" class=\"data row0 col0\" >1.000000</td>\n",
       "                        <td id=\"T_d10e4997_82b2_11ed_9292_1458d013d3fdrow0_col1\" class=\"data row0 col1\" >-0.092463</td>\n",
       "                        <td id=\"T_d10e4997_82b2_11ed_9292_1458d013d3fdrow0_col2\" class=\"data row0 col2\" >0.504586</td>\n",
       "                        <td id=\"T_d10e4997_82b2_11ed_9292_1458d013d3fdrow0_col3\" class=\"data row0 col3\" >0.292391</td>\n",
       "                        <td id=\"T_d10e4997_82b2_11ed_9292_1458d013d3fdrow0_col4\" class=\"data row0 col4\" >0.095810</td>\n",
       "                        <td id=\"T_d10e4997_82b2_11ed_9292_1458d013d3fdrow0_col5\" class=\"data row0 col5\" >0.078032</td>\n",
       "                        <td id=\"T_d10e4997_82b2_11ed_9292_1458d013d3fdrow0_col6\" class=\"data row0 col6\" >0.012633</td>\n",
       "                        <td id=\"T_d10e4997_82b2_11ed_9292_1458d013d3fdrow0_col7\" class=\"data row0 col7\" >0.060327</td>\n",
       "                        <td id=\"T_d10e4997_82b2_11ed_9292_1458d013d3fdrow0_col8\" class=\"data row0 col8\" >-0.003016</td>\n",
       "                        <td id=\"T_d10e4997_82b2_11ed_9292_1458d013d3fdrow0_col9\" class=\"data row0 col9\" >0.011381</td>\n",
       "                        <td id=\"T_d10e4997_82b2_11ed_9292_1458d013d3fdrow0_col10\" class=\"data row0 col10\" >0.014572</td>\n",
       "                        <td id=\"T_d10e4997_82b2_11ed_9292_1458d013d3fdrow0_col11\" class=\"data row0 col11\" >0.003068</td>\n",
       "                        <td id=\"T_d10e4997_82b2_11ed_9292_1458d013d3fdrow0_col12\" class=\"data row0 col12\" >0.958435</td>\n",
       "            </tr>\n",
       "            <tr>\n",
       "                        <th id=\"T_d10e4997_82b2_11ed_9292_1458d013d3fdlevel0_row1\" class=\"row_heading level0 row1\" >Scholarship</th>\n",
       "                        <td id=\"T_d10e4997_82b2_11ed_9292_1458d013d3fdrow1_col0\" class=\"data row1 col0\" >-0.092463</td>\n",
       "                        <td id=\"T_d10e4997_82b2_11ed_9292_1458d013d3fdrow1_col1\" class=\"data row1 col1\" >1.000000</td>\n",
       "                        <td id=\"T_d10e4997_82b2_11ed_9292_1458d013d3fdrow1_col2\" class=\"data row1 col2\" >-0.019730</td>\n",
       "                        <td id=\"T_d10e4997_82b2_11ed_9292_1458d013d3fdrow1_col3\" class=\"data row1 col3\" >-0.024894</td>\n",
       "                        <td id=\"T_d10e4997_82b2_11ed_9292_1458d013d3fdrow1_col4\" class=\"data row1 col4\" >0.035022</td>\n",
       "                        <td id=\"T_d10e4997_82b2_11ed_9292_1458d013d3fdrow1_col5\" class=\"data row1 col5\" >-0.008587</td>\n",
       "                        <td id=\"T_d10e4997_82b2_11ed_9292_1458d013d3fdrow1_col6\" class=\"data row1 col6\" >0.001192</td>\n",
       "                        <td id=\"T_d10e4997_82b2_11ed_9292_1458d013d3fdrow1_col7\" class=\"data row1 col7\" >-0.029134</td>\n",
       "                        <td id=\"T_d10e4997_82b2_11ed_9292_1458d013d3fdrow1_col8\" class=\"data row1 col8\" >0.016817</td>\n",
       "                        <td id=\"T_d10e4997_82b2_11ed_9292_1458d013d3fdrow1_col9\" class=\"data row1 col9\" >-0.004967</td>\n",
       "                        <td id=\"T_d10e4997_82b2_11ed_9292_1458d013d3fdrow1_col10\" class=\"data row1 col10\" >-0.002583</td>\n",
       "                        <td id=\"T_d10e4997_82b2_11ed_9292_1458d013d3fdrow1_col11\" class=\"data row1 col11\" >-0.000677</td>\n",
       "                        <td id=\"T_d10e4997_82b2_11ed_9292_1458d013d3fdrow1_col12\" class=\"data row1 col12\" >-0.096187</td>\n",
       "            </tr>\n",
       "            <tr>\n",
       "                        <th id=\"T_d10e4997_82b2_11ed_9292_1458d013d3fdlevel0_row2\" class=\"row_heading level0 row2\" >Hipertension</th>\n",
       "                        <td id=\"T_d10e4997_82b2_11ed_9292_1458d013d3fdrow2_col0\" class=\"data row2 col0\" >0.504586</td>\n",
       "                        <td id=\"T_d10e4997_82b2_11ed_9292_1458d013d3fdrow2_col1\" class=\"data row2 col1\" >-0.019730</td>\n",
       "                        <td id=\"T_d10e4997_82b2_11ed_9292_1458d013d3fdrow2_col2\" class=\"data row2 col2\" >1.000000</td>\n",
       "                        <td id=\"T_d10e4997_82b2_11ed_9292_1458d013d3fdrow2_col3\" class=\"data row2 col3\" >0.433085</td>\n",
       "                        <td id=\"T_d10e4997_82b2_11ed_9292_1458d013d3fdrow2_col4\" class=\"data row2 col4\" >0.087970</td>\n",
       "                        <td id=\"T_d10e4997_82b2_11ed_9292_1458d013d3fdrow2_col5\" class=\"data row2 col5\" >0.080083</td>\n",
       "                        <td id=\"T_d10e4997_82b2_11ed_9292_1458d013d3fdrow2_col6\" class=\"data row2 col6\" >-0.006270</td>\n",
       "                        <td id=\"T_d10e4997_82b2_11ed_9292_1458d013d3fdrow2_col7\" class=\"data row2 col7\" >0.035704</td>\n",
       "                        <td id=\"T_d10e4997_82b2_11ed_9292_1458d013d3fdrow2_col8\" class=\"data row2 col8\" >0.025000</td>\n",
       "                        <td id=\"T_d10e4997_82b2_11ed_9292_1458d013d3fdrow2_col9\" class=\"data row2 col9\" >0.000679</td>\n",
       "                        <td id=\"T_d10e4997_82b2_11ed_9292_1458d013d3fdrow2_col10\" class=\"data row2 col10\" >0.003786</td>\n",
       "                        <td id=\"T_d10e4997_82b2_11ed_9292_1458d013d3fdrow2_col11\" class=\"data row2 col11\" >0.003449</td>\n",
       "                        <td id=\"T_d10e4997_82b2_11ed_9292_1458d013d3fdrow2_col12\" class=\"data row2 col12\" >0.489007</td>\n",
       "            </tr>\n",
       "            <tr>\n",
       "                        <th id=\"T_d10e4997_82b2_11ed_9292_1458d013d3fdlevel0_row3\" class=\"row_heading level0 row3\" >Diabetes</th>\n",
       "                        <td id=\"T_d10e4997_82b2_11ed_9292_1458d013d3fdrow3_col0\" class=\"data row3 col0\" >0.292391</td>\n",
       "                        <td id=\"T_d10e4997_82b2_11ed_9292_1458d013d3fdrow3_col1\" class=\"data row3 col1\" >-0.024894</td>\n",
       "                        <td id=\"T_d10e4997_82b2_11ed_9292_1458d013d3fdrow3_col2\" class=\"data row3 col2\" >0.433085</td>\n",
       "                        <td id=\"T_d10e4997_82b2_11ed_9292_1458d013d3fdrow3_col3\" class=\"data row3 col3\" >1.000000</td>\n",
       "                        <td id=\"T_d10e4997_82b2_11ed_9292_1458d013d3fdrow3_col4\" class=\"data row3 col4\" >0.018473</td>\n",
       "                        <td id=\"T_d10e4997_82b2_11ed_9292_1458d013d3fdrow3_col5\" class=\"data row3 col5\" >0.057530</td>\n",
       "                        <td id=\"T_d10e4997_82b2_11ed_9292_1458d013d3fdrow3_col6\" class=\"data row3 col6\" >-0.014552</td>\n",
       "                        <td id=\"T_d10e4997_82b2_11ed_9292_1458d013d3fdrow3_col7\" class=\"data row3 col7\" >0.015181</td>\n",
       "                        <td id=\"T_d10e4997_82b2_11ed_9292_1458d013d3fdrow3_col8\" class=\"data row3 col8\" >0.025600</td>\n",
       "                        <td id=\"T_d10e4997_82b2_11ed_9292_1458d013d3fdrow3_col9\" class=\"data row3 col9\" >-0.000387</td>\n",
       "                        <td id=\"T_d10e4997_82b2_11ed_9292_1458d013d3fdrow3_col10\" class=\"data row3 col10\" >0.003745</td>\n",
       "                        <td id=\"T_d10e4997_82b2_11ed_9292_1458d013d3fdrow3_col11\" class=\"data row3 col11\" >0.006611</td>\n",
       "                        <td id=\"T_d10e4997_82b2_11ed_9292_1458d013d3fdrow3_col12\" class=\"data row3 col12\" >0.287269</td>\n",
       "            </tr>\n",
       "            <tr>\n",
       "                        <th id=\"T_d10e4997_82b2_11ed_9292_1458d013d3fdlevel0_row4\" class=\"row_heading level0 row4\" >Alcoholism</th>\n",
       "                        <td id=\"T_d10e4997_82b2_11ed_9292_1458d013d3fdrow4_col0\" class=\"data row4 col0\" >0.095810</td>\n",
       "                        <td id=\"T_d10e4997_82b2_11ed_9292_1458d013d3fdrow4_col1\" class=\"data row4 col1\" >0.035022</td>\n",
       "                        <td id=\"T_d10e4997_82b2_11ed_9292_1458d013d3fdrow4_col2\" class=\"data row4 col2\" >0.087970</td>\n",
       "                        <td id=\"T_d10e4997_82b2_11ed_9292_1458d013d3fdrow4_col3\" class=\"data row4 col3\" >0.018473</td>\n",
       "                        <td id=\"T_d10e4997_82b2_11ed_9292_1458d013d3fdrow4_col4\" class=\"data row4 col4\" >1.000000</td>\n",
       "                        <td id=\"T_d10e4997_82b2_11ed_9292_1458d013d3fdrow4_col5\" class=\"data row4 col5\" >0.004647</td>\n",
       "                        <td id=\"T_d10e4997_82b2_11ed_9292_1458d013d3fdrow4_col6\" class=\"data row4 col6\" >-0.026149</td>\n",
       "                        <td id=\"T_d10e4997_82b2_11ed_9292_1458d013d3fdrow4_col7\" class=\"data row4 col7\" >0.000197</td>\n",
       "                        <td id=\"T_d10e4997_82b2_11ed_9292_1458d013d3fdrow4_col8\" class=\"data row4 col8\" >0.028774</td>\n",
       "                        <td id=\"T_d10e4997_82b2_11ed_9292_1458d013d3fdrow4_col9\" class=\"data row4 col9\" >0.006628</td>\n",
       "                        <td id=\"T_d10e4997_82b2_11ed_9292_1458d013d3fdrow4_col10\" class=\"data row4 col10\" >0.003922</td>\n",
       "                        <td id=\"T_d10e4997_82b2_11ed_9292_1458d013d3fdrow4_col11\" class=\"data row4 col11\" >0.002699</td>\n",
       "                        <td id=\"T_d10e4997_82b2_11ed_9292_1458d013d3fdrow4_col12\" class=\"data row4 col12\" >0.104546</td>\n",
       "            </tr>\n",
       "            <tr>\n",
       "                        <th id=\"T_d10e4997_82b2_11ed_9292_1458d013d3fdlevel0_row5\" class=\"row_heading level0 row5\" >Handcap</th>\n",
       "                        <td id=\"T_d10e4997_82b2_11ed_9292_1458d013d3fdrow5_col0\" class=\"data row5 col0\" >0.078032</td>\n",
       "                        <td id=\"T_d10e4997_82b2_11ed_9292_1458d013d3fdrow5_col1\" class=\"data row5 col1\" >-0.008587</td>\n",
       "                        <td id=\"T_d10e4997_82b2_11ed_9292_1458d013d3fdrow5_col2\" class=\"data row5 col2\" >0.080083</td>\n",
       "                        <td id=\"T_d10e4997_82b2_11ed_9292_1458d013d3fdrow5_col3\" class=\"data row5 col3\" >0.057530</td>\n",
       "                        <td id=\"T_d10e4997_82b2_11ed_9292_1458d013d3fdrow5_col4\" class=\"data row5 col4\" >0.004647</td>\n",
       "                        <td id=\"T_d10e4997_82b2_11ed_9292_1458d013d3fdrow5_col5\" class=\"data row5 col5\" >1.000000</td>\n",
       "                        <td id=\"T_d10e4997_82b2_11ed_9292_1458d013d3fdrow5_col6\" class=\"data row5 col6\" >-0.024162</td>\n",
       "                        <td id=\"T_d10e4997_82b2_11ed_9292_1458d013d3fdrow5_col7\" class=\"data row5 col7\" >0.006077</td>\n",
       "                        <td id=\"T_d10e4997_82b2_11ed_9292_1458d013d3fdrow5_col8\" class=\"data row5 col8\" >0.014955</td>\n",
       "                        <td id=\"T_d10e4997_82b2_11ed_9292_1458d013d3fdrow5_col9\" class=\"data row5 col9\" >0.000610</td>\n",
       "                        <td id=\"T_d10e4997_82b2_11ed_9292_1458d013d3fdrow5_col10\" class=\"data row5 col10\" >-0.001477</td>\n",
       "                        <td id=\"T_d10e4997_82b2_11ed_9292_1458d013d3fdrow5_col11\" class=\"data row5 col11\" >0.004350</td>\n",
       "                        <td id=\"T_d10e4997_82b2_11ed_9292_1458d013d3fdrow5_col12\" class=\"data row5 col12\" >0.063762</td>\n",
       "            </tr>\n",
       "            <tr>\n",
       "                        <th id=\"T_d10e4997_82b2_11ed_9292_1458d013d3fdlevel0_row6\" class=\"row_heading level0 row6\" >SMS_received</th>\n",
       "                        <td id=\"T_d10e4997_82b2_11ed_9292_1458d013d3fdrow6_col0\" class=\"data row6 col0\" >0.012633</td>\n",
       "                        <td id=\"T_d10e4997_82b2_11ed_9292_1458d013d3fdrow6_col1\" class=\"data row6 col1\" >0.001192</td>\n",
       "                        <td id=\"T_d10e4997_82b2_11ed_9292_1458d013d3fdrow6_col2\" class=\"data row6 col2\" >-0.006270</td>\n",
       "                        <td id=\"T_d10e4997_82b2_11ed_9292_1458d013d3fdrow6_col3\" class=\"data row6 col3\" >-0.014552</td>\n",
       "                        <td id=\"T_d10e4997_82b2_11ed_9292_1458d013d3fdrow6_col4\" class=\"data row6 col4\" >-0.026149</td>\n",
       "                        <td id=\"T_d10e4997_82b2_11ed_9292_1458d013d3fdrow6_col5\" class=\"data row6 col5\" >-0.024162</td>\n",
       "                        <td id=\"T_d10e4997_82b2_11ed_9292_1458d013d3fdrow6_col6\" class=\"data row6 col6\" >1.000000</td>\n",
       "                        <td id=\"T_d10e4997_82b2_11ed_9292_1458d013d3fdrow6_col7\" class=\"data row6 col7\" >-0.126428</td>\n",
       "                        <td id=\"T_d10e4997_82b2_11ed_9292_1458d013d3fdrow6_col8\" class=\"data row6 col8\" >-0.294083</td>\n",
       "                        <td id=\"T_d10e4997_82b2_11ed_9292_1458d013d3fdrow6_col9\" class=\"data row6 col9\" >0.078548</td>\n",
       "                        <td id=\"T_d10e4997_82b2_11ed_9292_1458d013d3fdrow6_col10\" class=\"data row6 col10\" >0.108082</td>\n",
       "                        <td id=\"T_d10e4997_82b2_11ed_9292_1458d013d3fdrow6_col11\" class=\"data row6 col11\" >-0.089867</td>\n",
       "                        <td id=\"T_d10e4997_82b2_11ed_9292_1458d013d3fdrow6_col12\" class=\"data row6 col12\" >0.016392</td>\n",
       "            </tr>\n",
       "            <tr>\n",
       "                        <th id=\"T_d10e4997_82b2_11ed_9292_1458d013d3fdlevel0_row7\" class=\"row_heading level0 row7\" >Show</th>\n",
       "                        <td id=\"T_d10e4997_82b2_11ed_9292_1458d013d3fdrow7_col0\" class=\"data row7 col0\" >0.060327</td>\n",
       "                        <td id=\"T_d10e4997_82b2_11ed_9292_1458d013d3fdrow7_col1\" class=\"data row7 col1\" >-0.029134</td>\n",
       "                        <td id=\"T_d10e4997_82b2_11ed_9292_1458d013d3fdrow7_col2\" class=\"data row7 col2\" >0.035704</td>\n",
       "                        <td id=\"T_d10e4997_82b2_11ed_9292_1458d013d3fdrow7_col3\" class=\"data row7 col3\" >0.015181</td>\n",
       "                        <td id=\"T_d10e4997_82b2_11ed_9292_1458d013d3fdrow7_col4\" class=\"data row7 col4\" >0.000197</td>\n",
       "                        <td id=\"T_d10e4997_82b2_11ed_9292_1458d013d3fdrow7_col5\" class=\"data row7 col5\" >0.006077</td>\n",
       "                        <td id=\"T_d10e4997_82b2_11ed_9292_1458d013d3fdrow7_col6\" class=\"data row7 col6\" >-0.126428</td>\n",
       "                        <td id=\"T_d10e4997_82b2_11ed_9292_1458d013d3fdrow7_col7\" class=\"data row7 col7\" >1.000000</td>\n",
       "                        <td id=\"T_d10e4997_82b2_11ed_9292_1458d013d3fdrow7_col8\" class=\"data row7 col8\" >0.160856</td>\n",
       "                        <td id=\"T_d10e4997_82b2_11ed_9292_1458d013d3fdrow7_col9\" class=\"data row7 col9\" >-0.006014</td>\n",
       "                        <td id=\"T_d10e4997_82b2_11ed_9292_1458d013d3fdrow7_col10\" class=\"data row7 col10\" >0.020879</td>\n",
       "                        <td id=\"T_d10e4997_82b2_11ed_9292_1458d013d3fdrow7_col11\" class=\"data row7 col11\" >-0.001158</td>\n",
       "                        <td id=\"T_d10e4997_82b2_11ed_9292_1458d013d3fdrow7_col12\" class=\"data row7 col12\" >0.063971</td>\n",
       "            </tr>\n",
       "            <tr>\n",
       "                        <th id=\"T_d10e4997_82b2_11ed_9292_1458d013d3fdlevel0_row8\" class=\"row_heading level0 row8\" >scheduled_month</th>\n",
       "                        <td id=\"T_d10e4997_82b2_11ed_9292_1458d013d3fdrow8_col0\" class=\"data row8 col0\" >-0.003016</td>\n",
       "                        <td id=\"T_d10e4997_82b2_11ed_9292_1458d013d3fdrow8_col1\" class=\"data row8 col1\" >0.016817</td>\n",
       "                        <td id=\"T_d10e4997_82b2_11ed_9292_1458d013d3fdrow8_col2\" class=\"data row8 col2\" >0.025000</td>\n",
       "                        <td id=\"T_d10e4997_82b2_11ed_9292_1458d013d3fdrow8_col3\" class=\"data row8 col3\" >0.025600</td>\n",
       "                        <td id=\"T_d10e4997_82b2_11ed_9292_1458d013d3fdrow8_col4\" class=\"data row8 col4\" >0.028774</td>\n",
       "                        <td id=\"T_d10e4997_82b2_11ed_9292_1458d013d3fdrow8_col5\" class=\"data row8 col5\" >0.014955</td>\n",
       "                        <td id=\"T_d10e4997_82b2_11ed_9292_1458d013d3fdrow8_col6\" class=\"data row8 col6\" >-0.294083</td>\n",
       "                        <td id=\"T_d10e4997_82b2_11ed_9292_1458d013d3fdrow8_col7\" class=\"data row8 col7\" >0.160856</td>\n",
       "                        <td id=\"T_d10e4997_82b2_11ed_9292_1458d013d3fdrow8_col8\" class=\"data row8 col8\" >1.000000</td>\n",
       "                        <td id=\"T_d10e4997_82b2_11ed_9292_1458d013d3fdrow8_col9\" class=\"data row8 col9\" >-0.031724</td>\n",
       "                        <td id=\"T_d10e4997_82b2_11ed_9292_1458d013d3fdrow8_col10\" class=\"data row8 col10\" >0.527615</td>\n",
       "                        <td id=\"T_d10e4997_82b2_11ed_9292_1458d013d3fdrow8_col11\" class=\"data row8 col11\" >-0.043002</td>\n",
       "                        <td id=\"T_d10e4997_82b2_11ed_9292_1458d013d3fdrow8_col12\" class=\"data row8 col12\" >-0.002941</td>\n",
       "            </tr>\n",
       "            <tr>\n",
       "                        <th id=\"T_d10e4997_82b2_11ed_9292_1458d013d3fdlevel0_row9\" class=\"row_heading level0 row9\" >scheduled_day</th>\n",
       "                        <td id=\"T_d10e4997_82b2_11ed_9292_1458d013d3fdrow9_col0\" class=\"data row9 col0\" >0.011381</td>\n",
       "                        <td id=\"T_d10e4997_82b2_11ed_9292_1458d013d3fdrow9_col1\" class=\"data row9 col1\" >-0.004967</td>\n",
       "                        <td id=\"T_d10e4997_82b2_11ed_9292_1458d013d3fdrow9_col2\" class=\"data row9 col2\" >0.000679</td>\n",
       "                        <td id=\"T_d10e4997_82b2_11ed_9292_1458d013d3fdrow9_col3\" class=\"data row9 col3\" >-0.000387</td>\n",
       "                        <td id=\"T_d10e4997_82b2_11ed_9292_1458d013d3fdrow9_col4\" class=\"data row9 col4\" >0.006628</td>\n",
       "                        <td id=\"T_d10e4997_82b2_11ed_9292_1458d013d3fdrow9_col5\" class=\"data row9 col5\" >0.000610</td>\n",
       "                        <td id=\"T_d10e4997_82b2_11ed_9292_1458d013d3fdrow9_col6\" class=\"data row9 col6\" >0.078548</td>\n",
       "                        <td id=\"T_d10e4997_82b2_11ed_9292_1458d013d3fdrow9_col7\" class=\"data row9 col7\" >-0.006014</td>\n",
       "                        <td id=\"T_d10e4997_82b2_11ed_9292_1458d013d3fdrow9_col8\" class=\"data row9 col8\" >-0.031724</td>\n",
       "                        <td id=\"T_d10e4997_82b2_11ed_9292_1458d013d3fdrow9_col9\" class=\"data row9 col9\" >1.000000</td>\n",
       "                        <td id=\"T_d10e4997_82b2_11ed_9292_1458d013d3fdrow9_col10\" class=\"data row9 col10\" >-0.038686</td>\n",
       "                        <td id=\"T_d10e4997_82b2_11ed_9292_1458d013d3fdrow9_col11\" class=\"data row9 col11\" >0.328790</td>\n",
       "                        <td id=\"T_d10e4997_82b2_11ed_9292_1458d013d3fdrow9_col12\" class=\"data row9 col12\" >0.009382</td>\n",
       "            </tr>\n",
       "            <tr>\n",
       "                        <th id=\"T_d10e4997_82b2_11ed_9292_1458d013d3fdlevel0_row10\" class=\"row_heading level0 row10\" >appointment_month</th>\n",
       "                        <td id=\"T_d10e4997_82b2_11ed_9292_1458d013d3fdrow10_col0\" class=\"data row10 col0\" >0.014572</td>\n",
       "                        <td id=\"T_d10e4997_82b2_11ed_9292_1458d013d3fdrow10_col1\" class=\"data row10 col1\" >-0.002583</td>\n",
       "                        <td id=\"T_d10e4997_82b2_11ed_9292_1458d013d3fdrow10_col2\" class=\"data row10 col2\" >0.003786</td>\n",
       "                        <td id=\"T_d10e4997_82b2_11ed_9292_1458d013d3fdrow10_col3\" class=\"data row10 col3\" >0.003745</td>\n",
       "                        <td id=\"T_d10e4997_82b2_11ed_9292_1458d013d3fdrow10_col4\" class=\"data row10 col4\" >0.003922</td>\n",
       "                        <td id=\"T_d10e4997_82b2_11ed_9292_1458d013d3fdrow10_col5\" class=\"data row10 col5\" >-0.001477</td>\n",
       "                        <td id=\"T_d10e4997_82b2_11ed_9292_1458d013d3fdrow10_col6\" class=\"data row10 col6\" >0.108082</td>\n",
       "                        <td id=\"T_d10e4997_82b2_11ed_9292_1458d013d3fdrow10_col7\" class=\"data row10 col7\" >0.020879</td>\n",
       "                        <td id=\"T_d10e4997_82b2_11ed_9292_1458d013d3fdrow10_col8\" class=\"data row10 col8\" >0.527615</td>\n",
       "                        <td id=\"T_d10e4997_82b2_11ed_9292_1458d013d3fdrow10_col9\" class=\"data row10 col9\" >-0.038686</td>\n",
       "                        <td id=\"T_d10e4997_82b2_11ed_9292_1458d013d3fdrow10_col10\" class=\"data row10 col10\" >1.000000</td>\n",
       "                        <td id=\"T_d10e4997_82b2_11ed_9292_1458d013d3fdrow10_col11\" class=\"data row10 col11\" >-0.062477</td>\n",
       "                        <td id=\"T_d10e4997_82b2_11ed_9292_1458d013d3fdrow10_col12\" class=\"data row10 col12\" >0.014198</td>\n",
       "            </tr>\n",
       "            <tr>\n",
       "                        <th id=\"T_d10e4997_82b2_11ed_9292_1458d013d3fdlevel0_row11\" class=\"row_heading level0 row11\" >appointment_day</th>\n",
       "                        <td id=\"T_d10e4997_82b2_11ed_9292_1458d013d3fdrow11_col0\" class=\"data row11 col0\" >0.003068</td>\n",
       "                        <td id=\"T_d10e4997_82b2_11ed_9292_1458d013d3fdrow11_col1\" class=\"data row11 col1\" >-0.000677</td>\n",
       "                        <td id=\"T_d10e4997_82b2_11ed_9292_1458d013d3fdrow11_col2\" class=\"data row11 col2\" >0.003449</td>\n",
       "                        <td id=\"T_d10e4997_82b2_11ed_9292_1458d013d3fdrow11_col3\" class=\"data row11 col3\" >0.006611</td>\n",
       "                        <td id=\"T_d10e4997_82b2_11ed_9292_1458d013d3fdrow11_col4\" class=\"data row11 col4\" >0.002699</td>\n",
       "                        <td id=\"T_d10e4997_82b2_11ed_9292_1458d013d3fdrow11_col5\" class=\"data row11 col5\" >0.004350</td>\n",
       "                        <td id=\"T_d10e4997_82b2_11ed_9292_1458d013d3fdrow11_col6\" class=\"data row11 col6\" >-0.089867</td>\n",
       "                        <td id=\"T_d10e4997_82b2_11ed_9292_1458d013d3fdrow11_col7\" class=\"data row11 col7\" >-0.001158</td>\n",
       "                        <td id=\"T_d10e4997_82b2_11ed_9292_1458d013d3fdrow11_col8\" class=\"data row11 col8\" >-0.043002</td>\n",
       "                        <td id=\"T_d10e4997_82b2_11ed_9292_1458d013d3fdrow11_col9\" class=\"data row11 col9\" >0.328790</td>\n",
       "                        <td id=\"T_d10e4997_82b2_11ed_9292_1458d013d3fdrow11_col10\" class=\"data row11 col10\" >-0.062477</td>\n",
       "                        <td id=\"T_d10e4997_82b2_11ed_9292_1458d013d3fdrow11_col11\" class=\"data row11 col11\" >1.000000</td>\n",
       "                        <td id=\"T_d10e4997_82b2_11ed_9292_1458d013d3fdrow11_col12\" class=\"data row11 col12\" >0.000919</td>\n",
       "            </tr>\n",
       "            <tr>\n",
       "                        <th id=\"T_d10e4997_82b2_11ed_9292_1458d013d3fdlevel0_row12\" class=\"row_heading level0 row12\" >Age_groups</th>\n",
       "                        <td id=\"T_d10e4997_82b2_11ed_9292_1458d013d3fdrow12_col0\" class=\"data row12 col0\" >0.958435</td>\n",
       "                        <td id=\"T_d10e4997_82b2_11ed_9292_1458d013d3fdrow12_col1\" class=\"data row12 col1\" >-0.096187</td>\n",
       "                        <td id=\"T_d10e4997_82b2_11ed_9292_1458d013d3fdrow12_col2\" class=\"data row12 col2\" >0.489007</td>\n",
       "                        <td id=\"T_d10e4997_82b2_11ed_9292_1458d013d3fdrow12_col3\" class=\"data row12 col3\" >0.287269</td>\n",
       "                        <td id=\"T_d10e4997_82b2_11ed_9292_1458d013d3fdrow12_col4\" class=\"data row12 col4\" >0.104546</td>\n",
       "                        <td id=\"T_d10e4997_82b2_11ed_9292_1458d013d3fdrow12_col5\" class=\"data row12 col5\" >0.063762</td>\n",
       "                        <td id=\"T_d10e4997_82b2_11ed_9292_1458d013d3fdrow12_col6\" class=\"data row12 col6\" >0.016392</td>\n",
       "                        <td id=\"T_d10e4997_82b2_11ed_9292_1458d013d3fdrow12_col7\" class=\"data row12 col7\" >0.063971</td>\n",
       "                        <td id=\"T_d10e4997_82b2_11ed_9292_1458d013d3fdrow12_col8\" class=\"data row12 col8\" >-0.002941</td>\n",
       "                        <td id=\"T_d10e4997_82b2_11ed_9292_1458d013d3fdrow12_col9\" class=\"data row12 col9\" >0.009382</td>\n",
       "                        <td id=\"T_d10e4997_82b2_11ed_9292_1458d013d3fdrow12_col10\" class=\"data row12 col10\" >0.014198</td>\n",
       "                        <td id=\"T_d10e4997_82b2_11ed_9292_1458d013d3fdrow12_col11\" class=\"data row12 col11\" >0.000919</td>\n",
       "                        <td id=\"T_d10e4997_82b2_11ed_9292_1458d013d3fdrow12_col12\" class=\"data row12 col12\" >1.000000</td>\n",
       "            </tr>\n",
       "    </tbody></table>"
      ],
      "text/plain": [
       "<pandas.io.formats.style.Styler at 0x1f53f1a77f0>"
      ]
     },
     "execution_count": 7,
     "metadata": {},
     "output_type": "execute_result"
    }
   ],
   "source": [
    "# searching for correlation amongst columns\n",
    "df.corr().style.background_gradient(cmap='coolwarm')"
   ]
  },
  {
   "cell_type": "code",
   "execution_count": 8,
   "metadata": {},
   "outputs": [],
   "source": [
    "# then remove some of the independent variables that are highly correlated and would cause problems with the algorithm due to multicollinearity\n",
    "# drop Neighbourhood due to its large categories\n",
    "df.drop(['Age'], axis=1, inplace=True)"
   ]
  },
  {
   "cell_type": "code",
   "execution_count": 9,
   "metadata": {},
   "outputs": [
    {
     "data": {
      "text/plain": [
       "array(['Gender', 'Scholarship', 'Hipertension', 'Diabetes', 'Alcoholism',\n",
       "       'Handcap', 'SMS_received', 'Show', 'scheduled_month',\n",
       "       'scheduled_day', 'appointment_month', 'appointment_day',\n",
       "       'Age_groups'], dtype=object)"
      ]
     },
     "execution_count": 9,
     "metadata": {},
     "output_type": "execute_result"
    }
   ],
   "source": [
    "df.columns.values"
   ]
  },
  {
   "cell_type": "code",
   "execution_count": 10,
   "metadata": {},
   "outputs": [],
   "source": [
    "# separate x_inputs and y_targets variables\n",
    "y_targets = df.Show\n",
    "x_inputs = df[['Gender', 'Scholarship', 'Hipertension', 'Diabetes', 'Alcoholism', 'Handcap', 'SMS_received', \n",
    "            'scheduled_month', 'scheduled_day', 'appointment_month', 'appointment_day', 'Age_groups']]"
   ]
  },
  {
   "cell_type": "code",
   "execution_count": 11,
   "metadata": {},
   "outputs": [],
   "source": [
    "# create an object to subtract the mean and divide by the SD featurewise\n",
    "show_scalar = StandardScaler()"
   ]
  },
  {
   "cell_type": "code",
   "execution_count": 12,
   "metadata": {},
   "outputs": [
    {
     "data": {
      "text/plain": [
       "StandardScaler()"
      ]
     },
     "execution_count": 12,
     "metadata": {},
     "output_type": "execute_result"
    }
   ],
   "source": [
    "show_scalar.fit(x_inputs)"
   ]
  },
  {
   "cell_type": "code",
   "execution_count": 13,
   "metadata": {},
   "outputs": [],
   "source": [
    "scaled_inputs = show_scalar.transform(x_inputs)"
   ]
  },
  {
   "cell_type": "code",
   "execution_count": 14,
   "metadata": {},
   "outputs": [
    {
     "data": {
      "text/plain": [
       "(110526, 12)"
      ]
     },
     "execution_count": 14,
     "metadata": {},
     "output_type": "execute_result"
    }
   ],
   "source": [
    "scaled_inputs.shape"
   ]
  },
  {
   "cell_type": "code",
   "execution_count": 15,
   "metadata": {},
   "outputs": [],
   "source": [
    "# spilting the dataset into training and test dataset\n",
    "x_train, x_test, y_train, y_test = train_test_split(scaled_inputs, y_targets, train_size=0.8, random_state= 100)"
   ]
  },
  {
   "cell_type": "code",
   "execution_count": 16,
   "metadata": {},
   "outputs": [
    {
     "name": "stdout",
     "output_type": "stream",
     "text": [
      "X_train: (88420, 12)\n",
      "X_test: (22106, 12)\n",
      "Y_train: 88420\n",
      "Y_train: 22106\n"
     ]
    }
   ],
   "source": [
    "# view output shapes\n",
    "print(\"X_train:\", x_train.shape)\n",
    "print(\"X_test:\", x_test.shape)\n",
    "print(\"Y_train:\", len(y_train))\n",
    "print(\"Y_train:\", len(y_test))"
   ]
  },
  {
   "cell_type": "code",
   "execution_count": 17,
   "metadata": {},
   "outputs": [],
   "source": [
    "#Declare a logistic regression classifier\n",
    "classifier = LogisticRegression(solver='liblinear',C=10.0, max_iter=1000).fit(x_train, y_train)"
   ]
  },
  {
   "cell_type": "code",
   "execution_count": 18,
   "metadata": {},
   "outputs": [
    {
     "data": {
      "text/plain": [
       "0.7968898439267134"
      ]
     },
     "execution_count": 18,
     "metadata": {},
     "output_type": "execute_result"
    }
   ],
   "source": [
    "#Make predictions on test data\n",
    "pred = classifier.predict(x_test)\n",
    "\n",
    "# evaluate the model accuracy\n",
    "classifier.score(x_train,y_train)"
   ]
  },
  {
   "cell_type": "code",
   "execution_count": 19,
   "metadata": {},
   "outputs": [
    {
     "data": {
      "text/plain": [
       "0.7954853885822853"
      ]
     },
     "execution_count": 19,
     "metadata": {},
     "output_type": "execute_result"
    }
   ],
   "source": [
    "classifier.score(x_test, y_test)"
   ]
  },
  {
   "cell_type": "code",
   "execution_count": 20,
   "metadata": {},
   "outputs": [
    {
     "data": {
      "text/plain": [
       "<sklearn.metrics._plot.confusion_matrix.ConfusionMatrixDisplay at 0x1f53f1af0a0>"
      ]
     },
     "execution_count": 20,
     "metadata": {},
     "output_type": "execute_result"
    },
    {
     "data": {
      "image/png": "[encoded data removed]",
      "text/plain": [
       "<Figure size 432x288 with 2 Axes>"
      ]
     },
     "metadata": {
      "needs_background": "light"
     },
     "output_type": "display_data"
    }
   ],
   "source": [
    "plot_confusion_matrix(classifier, x_test, y_test)"
   ]
  },
  {
   "cell_type": "code",
   "execution_count": 21,
   "metadata": {},
   "outputs": [
    {
     "name": "stdout",
     "output_type": "stream",
     "text": [
      "[1.4416426]\n"
     ]
    },
    {
     "data": {
      "text/plain": [
       "array([[-0.00818507, -0.06691241,  0.00979281, -0.03120744, -0.03375728,\n",
       "        -0.00255992, -0.16365985,  0.41835709,  0.00564544, -0.14212397,\n",
       "        -0.00771328,  0.17406295]])"
      ]
     },
     "execution_count": 21,
     "metadata": {},
     "output_type": "execute_result"
    }
   ],
   "source": [
    "# finding the intercept and coefficient \n",
    "print(classifier.intercept_)\n",
    "classifier.coef_"
   ]
  },
  {
   "cell_type": "code",
   "execution_count": 22,
   "metadata": {},
   "outputs": [
    {
     "data": {
      "text/plain": [
       "array(['Gender', 'Scholarship', 'Hipertension', 'Diabetes', 'Alcoholism',\n",
       "       'Handcap', 'SMS_received', 'scheduled_month', 'scheduled_day',\n",
       "       'appointment_month', 'appointment_day', 'Age_groups'], dtype=object)"
      ]
     },
     "execution_count": 22,
     "metadata": {},
     "output_type": "execute_result"
    }
   ],
   "source": [
    "feature_name = x_inputs.columns.values\n",
    "feature_name"
   ]
  },
  {
   "cell_type": "code",
   "execution_count": 23,
   "metadata": {},
   "outputs": [
    {
     "data": {
      "text/html": [
       "<div>\n",
       "<style scoped>\n",
       "    .dataframe tbody tr th:only-of-type {\n",
       "        vertical-align: middle;\n",
       "    }\n",
       "\n",
       "    .dataframe tbody tr th {\n",
       "        vertical-align: top;\n",
       "    }\n",
       "\n",
       "    .dataframe thead th {\n",
       "        text-align: right;\n",
       "    }\n",
       "</style>\n",
       "<table border=\"1\" class=\"dataframe\">\n",
       "  <thead>\n",
       "    <tr style=\"text-align: right;\">\n",
       "      <th></th>\n",
       "      <th>feature name</th>\n",
       "      <th>coefficient</th>\n",
       "    </tr>\n",
       "  </thead>\n",
       "  <tbody>\n",
       "    <tr>\n",
       "      <th>0</th>\n",
       "      <td>Gender</td>\n",
       "      <td>-0.008185</td>\n",
       "    </tr>\n",
       "    <tr>\n",
       "      <th>1</th>\n",
       "      <td>Scholarship</td>\n",
       "      <td>-0.066912</td>\n",
       "    </tr>\n",
       "    <tr>\n",
       "      <th>2</th>\n",
       "      <td>Hipertension</td>\n",
       "      <td>0.009793</td>\n",
       "    </tr>\n",
       "    <tr>\n",
       "      <th>3</th>\n",
       "      <td>Diabetes</td>\n",
       "      <td>-0.031207</td>\n",
       "    </tr>\n",
       "    <tr>\n",
       "      <th>4</th>\n",
       "      <td>Alcoholism</td>\n",
       "      <td>-0.033757</td>\n",
       "    </tr>\n",
       "    <tr>\n",
       "      <th>5</th>\n",
       "      <td>Handcap</td>\n",
       "      <td>-0.002560</td>\n",
       "    </tr>\n",
       "    <tr>\n",
       "      <th>6</th>\n",
       "      <td>SMS_received</td>\n",
       "      <td>-0.163660</td>\n",
       "    </tr>\n",
       "    <tr>\n",
       "      <th>7</th>\n",
       "      <td>scheduled_month</td>\n",
       "      <td>0.418357</td>\n",
       "    </tr>\n",
       "    <tr>\n",
       "      <th>8</th>\n",
       "      <td>scheduled_day</td>\n",
       "      <td>0.005645</td>\n",
       "    </tr>\n",
       "    <tr>\n",
       "      <th>9</th>\n",
       "      <td>appointment_month</td>\n",
       "      <td>-0.142124</td>\n",
       "    </tr>\n",
       "    <tr>\n",
       "      <th>10</th>\n",
       "      <td>appointment_day</td>\n",
       "      <td>-0.007713</td>\n",
       "    </tr>\n",
       "    <tr>\n",
       "      <th>11</th>\n",
       "      <td>Age_groups</td>\n",
       "      <td>0.174063</td>\n",
       "    </tr>\n",
       "  </tbody>\n",
       "</table>\n",
       "</div>"
      ],
      "text/plain": [
       "         feature name  coefficient\n",
       "0              Gender    -0.008185\n",
       "1         Scholarship    -0.066912\n",
       "2        Hipertension     0.009793\n",
       "3            Diabetes    -0.031207\n",
       "4          Alcoholism    -0.033757\n",
       "5             Handcap    -0.002560\n",
       "6        SMS_received    -0.163660\n",
       "7     scheduled_month     0.418357\n",
       "8       scheduled_day     0.005645\n",
       "9   appointment_month    -0.142124\n",
       "10    appointment_day    -0.007713\n",
       "11         Age_groups     0.174063"
      ]
     },
     "execution_count": 23,
     "metadata": {},
     "output_type": "execute_result"
    }
   ],
   "source": [
    "#creating a dataframe to contain the feature_names and the corresponding coefficient\n",
    "summary_table = pd.DataFrame (columns=['feature name'], data = feature_name)\n",
    "\n",
    "# matching the names with the coeffiecient\n",
    "summary_table['coefficient'] =np.transpose(classifier.coef_) #transpose because ndarrays are rows not columns\n",
    "summary_table"
   ]
  },
  {
   "cell_type": "code",
   "execution_count": 24,
   "metadata": {},
   "outputs": [
    {
     "data": {
      "text/html": [
       "<div>\n",
       "<style scoped>\n",
       "    .dataframe tbody tr th:only-of-type {\n",
       "        vertical-align: middle;\n",
       "    }\n",
       "\n",
       "    .dataframe tbody tr th {\n",
       "        vertical-align: top;\n",
       "    }\n",
       "\n",
       "    .dataframe thead th {\n",
       "        text-align: right;\n",
       "    }\n",
       "</style>\n",
       "<table border=\"1\" class=\"dataframe\">\n",
       "  <thead>\n",
       "    <tr style=\"text-align: right;\">\n",
       "      <th></th>\n",
       "      <th>feature name</th>\n",
       "      <th>coefficient</th>\n",
       "    </tr>\n",
       "  </thead>\n",
       "  <tbody>\n",
       "    <tr>\n",
       "      <th>0</th>\n",
       "      <td>intercept</td>\n",
       "      <td>1.441643</td>\n",
       "    </tr>\n",
       "    <tr>\n",
       "      <th>1</th>\n",
       "      <td>Gender</td>\n",
       "      <td>-0.008185</td>\n",
       "    </tr>\n",
       "    <tr>\n",
       "      <th>2</th>\n",
       "      <td>Scholarship</td>\n",
       "      <td>-0.066912</td>\n",
       "    </tr>\n",
       "    <tr>\n",
       "      <th>3</th>\n",
       "      <td>Hipertension</td>\n",
       "      <td>0.009793</td>\n",
       "    </tr>\n",
       "    <tr>\n",
       "      <th>4</th>\n",
       "      <td>Diabetes</td>\n",
       "      <td>-0.031207</td>\n",
       "    </tr>\n",
       "    <tr>\n",
       "      <th>5</th>\n",
       "      <td>Alcoholism</td>\n",
       "      <td>-0.033757</td>\n",
       "    </tr>\n",
       "    <tr>\n",
       "      <th>6</th>\n",
       "      <td>Handcap</td>\n",
       "      <td>-0.002560</td>\n",
       "    </tr>\n",
       "    <tr>\n",
       "      <th>7</th>\n",
       "      <td>SMS_received</td>\n",
       "      <td>-0.163660</td>\n",
       "    </tr>\n",
       "    <tr>\n",
       "      <th>8</th>\n",
       "      <td>scheduled_month</td>\n",
       "      <td>0.418357</td>\n",
       "    </tr>\n",
       "    <tr>\n",
       "      <th>9</th>\n",
       "      <td>scheduled_day</td>\n",
       "      <td>0.005645</td>\n",
       "    </tr>\n",
       "    <tr>\n",
       "      <th>10</th>\n",
       "      <td>appointment_month</td>\n",
       "      <td>-0.142124</td>\n",
       "    </tr>\n",
       "    <tr>\n",
       "      <th>11</th>\n",
       "      <td>appointment_day</td>\n",
       "      <td>-0.007713</td>\n",
       "    </tr>\n",
       "    <tr>\n",
       "      <th>12</th>\n",
       "      <td>Age_groups</td>\n",
       "      <td>0.174063</td>\n",
       "    </tr>\n",
       "  </tbody>\n",
       "</table>\n",
       "</div>"
      ],
      "text/plain": [
       "         feature name  coefficient\n",
       "0           intercept     1.441643\n",
       "1              Gender    -0.008185\n",
       "2         Scholarship    -0.066912\n",
       "3        Hipertension     0.009793\n",
       "4            Diabetes    -0.031207\n",
       "5          Alcoholism    -0.033757\n",
       "6             Handcap    -0.002560\n",
       "7        SMS_received    -0.163660\n",
       "8     scheduled_month     0.418357\n",
       "9       scheduled_day     0.005645\n",
       "10  appointment_month    -0.142124\n",
       "11    appointment_day    -0.007713\n",
       "12         Age_groups     0.174063"
      ]
     },
     "execution_count": 24,
     "metadata": {},
     "output_type": "execute_result"
    }
   ],
   "source": [
    "# appending the intercept\n",
    "# to shift the index of thee summary table so that the intercept comes first\n",
    "summary_table.index = summary_table.index + 1\n",
    "summary_table.loc[0] = ['intercept', classifier.intercept_[0]]\n",
    "summary_table = summary_table.sort_index()\n",
    "summary_table"
   ]
  },
  {
   "cell_type": "code",
   "execution_count": 25,
   "metadata": {},
   "outputs": [
    {
     "data": {
      "text/html": [
       "<div>\n",
       "<style scoped>\n",
       "    .dataframe tbody tr th:only-of-type {\n",
       "        vertical-align: middle;\n",
       "    }\n",
       "\n",
       "    .dataframe tbody tr th {\n",
       "        vertical-align: top;\n",
       "    }\n",
       "\n",
       "    .dataframe thead th {\n",
       "        text-align: right;\n",
       "    }\n",
       "</style>\n",
       "<table border=\"1\" class=\"dataframe\">\n",
       "  <thead>\n",
       "    <tr style=\"text-align: right;\">\n",
       "      <th></th>\n",
       "      <th>feature name</th>\n",
       "      <th>coefficient</th>\n",
       "      <th>odds_ratio</th>\n",
       "    </tr>\n",
       "  </thead>\n",
       "  <tbody>\n",
       "    <tr>\n",
       "      <th>0</th>\n",
       "      <td>intercept</td>\n",
       "      <td>1.441643</td>\n",
       "      <td>4.227634</td>\n",
       "    </tr>\n",
       "    <tr>\n",
       "      <th>1</th>\n",
       "      <td>Gender</td>\n",
       "      <td>-0.008185</td>\n",
       "      <td>0.991848</td>\n",
       "    </tr>\n",
       "    <tr>\n",
       "      <th>2</th>\n",
       "      <td>Scholarship</td>\n",
       "      <td>-0.066912</td>\n",
       "      <td>0.935277</td>\n",
       "    </tr>\n",
       "    <tr>\n",
       "      <th>3</th>\n",
       "      <td>Hipertension</td>\n",
       "      <td>0.009793</td>\n",
       "      <td>1.009841</td>\n",
       "    </tr>\n",
       "    <tr>\n",
       "      <th>4</th>\n",
       "      <td>Diabetes</td>\n",
       "      <td>-0.031207</td>\n",
       "      <td>0.969274</td>\n",
       "    </tr>\n",
       "    <tr>\n",
       "      <th>5</th>\n",
       "      <td>Alcoholism</td>\n",
       "      <td>-0.033757</td>\n",
       "      <td>0.966806</td>\n",
       "    </tr>\n",
       "    <tr>\n",
       "      <th>6</th>\n",
       "      <td>Handcap</td>\n",
       "      <td>-0.002560</td>\n",
       "      <td>0.997443</td>\n",
       "    </tr>\n",
       "    <tr>\n",
       "      <th>7</th>\n",
       "      <td>SMS_received</td>\n",
       "      <td>-0.163660</td>\n",
       "      <td>0.849031</td>\n",
       "    </tr>\n",
       "    <tr>\n",
       "      <th>8</th>\n",
       "      <td>scheduled_month</td>\n",
       "      <td>0.418357</td>\n",
       "      <td>1.519463</td>\n",
       "    </tr>\n",
       "    <tr>\n",
       "      <th>9</th>\n",
       "      <td>scheduled_day</td>\n",
       "      <td>0.005645</td>\n",
       "      <td>1.005661</td>\n",
       "    </tr>\n",
       "    <tr>\n",
       "      <th>10</th>\n",
       "      <td>appointment_month</td>\n",
       "      <td>-0.142124</td>\n",
       "      <td>0.867514</td>\n",
       "    </tr>\n",
       "    <tr>\n",
       "      <th>11</th>\n",
       "      <td>appointment_day</td>\n",
       "      <td>-0.007713</td>\n",
       "      <td>0.992316</td>\n",
       "    </tr>\n",
       "    <tr>\n",
       "      <th>12</th>\n",
       "      <td>Age_groups</td>\n",
       "      <td>0.174063</td>\n",
       "      <td>1.190130</td>\n",
       "    </tr>\n",
       "  </tbody>\n",
       "</table>\n",
       "</div>"
      ],
      "text/plain": [
       "         feature name  coefficient  odds_ratio\n",
       "0           intercept     1.441643    4.227634\n",
       "1              Gender    -0.008185    0.991848\n",
       "2         Scholarship    -0.066912    0.935277\n",
       "3        Hipertension     0.009793    1.009841\n",
       "4            Diabetes    -0.031207    0.969274\n",
       "5          Alcoholism    -0.033757    0.966806\n",
       "6             Handcap    -0.002560    0.997443\n",
       "7        SMS_received    -0.163660    0.849031\n",
       "8     scheduled_month     0.418357    1.519463\n",
       "9       scheduled_day     0.005645    1.005661\n",
       "10  appointment_month    -0.142124    0.867514\n",
       "11    appointment_day    -0.007713    0.992316\n",
       "12         Age_groups     0.174063    1.190130"
      ]
     },
     "execution_count": 25,
     "metadata": {},
     "output_type": "execute_result"
    }
   ],
   "source": [
    "# find the exponentials of the coefficient, to make them more interpretable\n",
    "summary_table['odds_ratio'] = np.exp(summary_table.coefficient)\n",
    "summary_table"
   ]
  },
  {
   "cell_type": "code",
   "execution_count": 26,
   "metadata": {},
   "outputs": [
    {
     "data": {
      "text/html": [
       "<div>\n",
       "<style scoped>\n",
       "    .dataframe tbody tr th:only-of-type {\n",
       "        vertical-align: middle;\n",
       "    }\n",
       "\n",
       "    .dataframe tbody tr th {\n",
       "        vertical-align: top;\n",
       "    }\n",
       "\n",
       "    .dataframe thead th {\n",
       "        text-align: right;\n",
       "    }\n",
       "</style>\n",
       "<table border=\"1\" class=\"dataframe\">\n",
       "  <thead>\n",
       "    <tr style=\"text-align: right;\">\n",
       "      <th></th>\n",
       "      <th>feature name</th>\n",
       "      <th>coefficient</th>\n",
       "      <th>odds_ratio</th>\n",
       "    </tr>\n",
       "  </thead>\n",
       "  <tbody>\n",
       "    <tr>\n",
       "      <th>0</th>\n",
       "      <td>intercept</td>\n",
       "      <td>1.441643</td>\n",
       "      <td>4.227634</td>\n",
       "    </tr>\n",
       "    <tr>\n",
       "      <th>8</th>\n",
       "      <td>scheduled_month</td>\n",
       "      <td>0.418357</td>\n",
       "      <td>1.519463</td>\n",
       "    </tr>\n",
       "    <tr>\n",
       "      <th>12</th>\n",
       "      <td>Age_groups</td>\n",
       "      <td>0.174063</td>\n",
       "      <td>1.190130</td>\n",
       "    </tr>\n",
       "    <tr>\n",
       "      <th>3</th>\n",
       "      <td>Hipertension</td>\n",
       "      <td>0.009793</td>\n",
       "      <td>1.009841</td>\n",
       "    </tr>\n",
       "    <tr>\n",
       "      <th>9</th>\n",
       "      <td>scheduled_day</td>\n",
       "      <td>0.005645</td>\n",
       "      <td>1.005661</td>\n",
       "    </tr>\n",
       "    <tr>\n",
       "      <th>6</th>\n",
       "      <td>Handcap</td>\n",
       "      <td>-0.002560</td>\n",
       "      <td>0.997443</td>\n",
       "    </tr>\n",
       "    <tr>\n",
       "      <th>11</th>\n",
       "      <td>appointment_day</td>\n",
       "      <td>-0.007713</td>\n",
       "      <td>0.992316</td>\n",
       "    </tr>\n",
       "    <tr>\n",
       "      <th>1</th>\n",
       "      <td>Gender</td>\n",
       "      <td>-0.008185</td>\n",
       "      <td>0.991848</td>\n",
       "    </tr>\n",
       "    <tr>\n",
       "      <th>4</th>\n",
       "      <td>Diabetes</td>\n",
       "      <td>-0.031207</td>\n",
       "      <td>0.969274</td>\n",
       "    </tr>\n",
       "    <tr>\n",
       "      <th>5</th>\n",
       "      <td>Alcoholism</td>\n",
       "      <td>-0.033757</td>\n",
       "      <td>0.966806</td>\n",
       "    </tr>\n",
       "    <tr>\n",
       "      <th>2</th>\n",
       "      <td>Scholarship</td>\n",
       "      <td>-0.066912</td>\n",
       "      <td>0.935277</td>\n",
       "    </tr>\n",
       "    <tr>\n",
       "      <th>10</th>\n",
       "      <td>appointment_month</td>\n",
       "      <td>-0.142124</td>\n",
       "      <td>0.867514</td>\n",
       "    </tr>\n",
       "    <tr>\n",
       "      <th>7</th>\n",
       "      <td>SMS_received</td>\n",
       "      <td>-0.163660</td>\n",
       "      <td>0.849031</td>\n",
       "    </tr>\n",
       "  </tbody>\n",
       "</table>\n",
       "</div>"
      ],
      "text/plain": [
       "         feature name  coefficient  odds_ratio\n",
       "0           intercept     1.441643    4.227634\n",
       "8     scheduled_month     0.418357    1.519463\n",
       "12         Age_groups     0.174063    1.190130\n",
       "3        Hipertension     0.009793    1.009841\n",
       "9       scheduled_day     0.005645    1.005661\n",
       "6             Handcap    -0.002560    0.997443\n",
       "11    appointment_day    -0.007713    0.992316\n",
       "1              Gender    -0.008185    0.991848\n",
       "4            Diabetes    -0.031207    0.969274\n",
       "5          Alcoholism    -0.033757    0.966806\n",
       "2         Scholarship    -0.066912    0.935277\n",
       "10  appointment_month    -0.142124    0.867514\n",
       "7        SMS_received    -0.163660    0.849031"
      ]
     },
     "execution_count": 26,
     "metadata": {},
     "output_type": "execute_result"
    }
   ],
   "source": [
    "# sort the dataframe by the 'odds_ratio' column\n",
    "summary_table.sort_values('odds_ratio', ascending = False)\n"
   ]
  },
  {
   "cell_type": "markdown",
   "metadata": {},
   "source": [
    "## Testing Model"
   ]
  },
  {
   "cell_type": "code",
   "execution_count": 27,
   "metadata": {},
   "outputs": [
    {
     "data": {
      "text/plain": [
       "0.7954853885822853"
      ]
     },
     "execution_count": 27,
     "metadata": {},
     "output_type": "execute_result"
    }
   ],
   "source": [
    "classifier.score(x_test,y_test)"
   ]
  },
  {
   "cell_type": "code",
   "execution_count": 28,
   "metadata": {},
   "outputs": [
    {
     "data": {
      "text/plain": [
       "array([[0.12199343, 0.87800657],\n",
       "       [0.29138343, 0.70861657],\n",
       "       [0.11970351, 0.88029649],\n",
       "       ...,\n",
       "       [0.13934553, 0.86065447],\n",
       "       [0.32839273, 0.67160727],\n",
       "       [0.11702076, 0.88297924]])"
      ]
     },
     "execution_count": 28,
     "metadata": {},
     "output_type": "execute_result"
    }
   ],
   "source": [
    "# getting the probability of an output being 0 or 1\n",
    "predicted_proba = classifier.predict_proba(x_test)\n",
    "predicted_proba"
   ]
  },
  {
   "cell_type": "code",
   "execution_count": 29,
   "metadata": {},
   "outputs": [
    {
     "data": {
      "text/plain": [
       "array([1, 1, 1, ..., 1, 1, 1], dtype=int64)"
      ]
     },
     "execution_count": 29,
     "metadata": {},
     "output_type": "execute_result"
    }
   ],
   "source": [
    "# getting the probability of an output being 0 or 1\n",
    "predicted = classifier.predict(x_test)\n",
    "predicted"
   ]
  },
  {
   "cell_type": "code",
   "execution_count": 30,
   "metadata": {},
   "outputs": [
    {
     "data": {
      "text/plain": [
       "array([0.87800657, 0.70861657, 0.88029649, ..., 0.86065447, 0.67160727,\n",
       "       0.88297924])"
      ]
     },
     "execution_count": 30,
     "metadata": {},
     "output_type": "execute_result"
    }
   ],
   "source": [
    "#slicing the output to get the probability of excessive absenteeism\n",
    "predicted_proba[:,1]"
   ]
  },
  {
   "cell_type": "markdown",
   "metadata": {},
   "source": [
    "### Save Model"
   ]
  },
  {
   "cell_type": "code",
   "execution_count": 34,
   "metadata": {},
   "outputs": [],
   "source": [
    "with open('model', 'wb') as file:\n",
    "    pickle.dump(classifier, file)"
   ]
  },
  {
   "cell_type": "code",
   "execution_count": 36,
   "metadata": {},
   "outputs": [],
   "source": [
    "with open('scaler', 'wb') as file:\n",
    "    pickle.dump(show_scalar,file)"
   ]
  },
  {
   "cell_type": "code",
   "execution_count": null,
   "metadata": {},
   "outputs": [],
   "source": []
  }
 ],
 "metadata": {
  "kernelspec": {
   "display_name": "Python 3.8.5",
   "language": "python",
   "name": "python3"
  },
  "language_info": {
   "codemirror_mode": {
    "name": "ipython",
    "version": 3
   },
   "file_extension": ".py",
   "mimetype": "text/x-python",
   "name": "python",
   "nbconvert_exporter": "python",
   "pygments_lexer": "ipython3",
   "version": "3.8.5"
  },
  "orig_nbformat": 4,
  "vscode": {
   "interpreter": {
    "hash": "ad2bdc8ecc057115af97d19610ffacc2b4e99fae6737bb82f5d7fb13d2f2c186"
   }
  }
 },
 "nbformat": 4,
 "nbformat_minor": 2
}
