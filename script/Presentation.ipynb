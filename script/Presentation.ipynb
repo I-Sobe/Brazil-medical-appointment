{
 "cells": [
  {
   "attachments": {},
   "cell_type": "markdown",
   "metadata": {},
   "source": [
    "# Presentation\n",
    "This analysis is aimed at assessing a dataset from a region in Brazil. The aim is to find out percularitiies almost the independeny variables with respect to the dependent variable. The variables recorded includes:\n",
    "* `Patient_ID` is the unique Identifier for each patient.\n",
    "* `Appointment_ID` is the unique appointment identifier.\n",
    "* `Gender` records the gender of the applicant\n",
    "* `Scheduled_Day` tells us on what day the patient set up their appointment.\n",
    "* `appointment_Day` tells us the appointment date.\n",
    "* `Neighborhood` indicates the location of the hospital.\n",
    "* `Scholarship` indicates whether or not the patient is enrolled in Brasilian welfare program.\n",
    "* `Hipertension` indicates if the applicant is hypertensive or not.\n",
    "* `Diabetes` indicates the applicants diabetes status.\n",
    "* `Alcoholism` indicates the applicants alcohol use.\n",
    "* `Handcap` indicates the applicants physical attributes.\n",
    "* `SMS_received` indicates if the applicant received a message reminder for the appointment.\n",
    "* `No_show` records the outcomes of the appointment. This is the dependent or target variable. "
   ]
  },
  {
   "attachments": {},
   "cell_type": "markdown",
   "metadata": {},
   "source": [
    "From the analysis done through the questions answered, it shows the following:\n",
    "a) Of the numerous independent variables collected, only:\n",
    "* `Gender`   *`Age`      * `Diabetes`      * `Hypertension`    * `Handicap`    *`Neighborhoods(2,5,7,8)`\n",
    "* `scheduled_month`     *`appointment_month`         *` scheduled_day `             * `appointment_day` has a postive effect on the dependent variable(show)\n",
    "\n",
    "b) For the Gender variable, Males are slightly more likely to show up than females irrespective of their health status(diabetics, hypertensive or handicap). We noticed a sharp jump when looking at patients with type 2 handicap(more than the normal difference)\n",
    "\n",
    "c) As regrads to age, there's a general progression in the likely to keep to an appointment as we moved from Gen_z to bloomers, although there was a dip with the milennials.\n",
    "\n",
    "d) Of all the medical history recorded, alcoholism are the least likely to show up while the hypertensive are the most likely. Diabetics and handicapped came in second and third respectively.With the same noticed low turn up with patients on type 2 handicap.\n",
    "\n",
    "e) Scholarship and SMS isn't a factor in determining patients show up, as patients without government funding and didn't receive a notification where more likely to show up.\n",
    "\n",
    "f) Patients in Neighborhoods 2,5,7,8 has a higher show up rate than other neighborhoods(which actual showed a decline in show rate), with [neighborhood 2](####neighborhoods) having the highest. Furthermore, it's observed that debatics in neighborhood 2 are less likely to show up than diabetics in other 3 neighborhoods (5,7,8), so the high show up for patients in neighborhood 2 doesn't include the diabetics amongst them."
   ]
  }
 ],
 "metadata": {
  "kernelspec": {
   "display_name": "Python 3.8.5 ('base')",
   "language": "python",
   "name": "python3"
  },
  "language_info": {
   "codemirror_mode": {
    "name": "ipython",
    "version": 3
   },
   "file_extension": ".py",
   "mimetype": "text/x-python",
   "name": "python",
   "nbconvert_exporter": "python",
   "pygments_lexer": "ipython3",
   "version": "3.8.5"
  },
  "orig_nbformat": 4,
  "vscode": {
   "interpreter": {
    "hash": "ad2bdc8ecc057115af97d19610ffacc2b4e99fae6737bb82f5d7fb13d2f2c186"
   }
  }
 },
 "nbformat": 4,
 "nbformat_minor": 2
}
